{
 "cells": [
  {
   "cell_type": "code",
   "execution_count": 2,
   "id": "02232aa1-5b82-434e-afd6-04c9d5987751",
   "metadata": {},
   "outputs": [],
   "source": [
    "import pandas as pd\n",
    "import numpy as np"
   ]
  },
  {
   "cell_type": "code",
   "execution_count": 3,
   "id": "a485a398-44c5-4359-9b20-26dc2fc3b62f",
   "metadata": {},
   "outputs": [],
   "source": [
    "df=pd.read_csv(\"wandb_export_2022-08-13T01_12_12.730+02_00.csv\")"
   ]
  },
  {
   "cell_type": "code",
   "execution_count": 20,
   "id": "40aae841-137b-4866-816c-1b4cfbe7861d",
   "metadata": {},
   "outputs": [
    {
     "data": {
      "text/html": [
       "<div>\n",
       "<style scoped>\n",
       "    .dataframe tbody tr th:only-of-type {\n",
       "        vertical-align: middle;\n",
       "    }\n",
       "\n",
       "    .dataframe tbody tr th {\n",
       "        vertical-align: top;\n",
       "    }\n",
       "\n",
       "    .dataframe thead th {\n",
       "        text-align: right;\n",
       "    }\n",
       "</style>\n",
       "<table border=\"1\" class=\"dataframe\">\n",
       "  <thead>\n",
       "    <tr style=\"text-align: right;\">\n",
       "      <th></th>\n",
       "      <th>Tags</th>\n",
       "      <th>Runtime</th>\n",
       "      <th>Sweep</th>\n",
       "      <th>n_cluster</th>\n",
       "      <th>kNN_acc</th>\n",
       "      <th>lin_acc</th>\n",
       "      <th>stat_acc</th>\n",
       "    </tr>\n",
       "    <tr>\n",
       "      <th>name</th>\n",
       "      <th></th>\n",
       "      <th></th>\n",
       "      <th></th>\n",
       "      <th></th>\n",
       "      <th></th>\n",
       "      <th></th>\n",
       "      <th></th>\n",
       "    </tr>\n",
       "  </thead>\n",
       "  <tbody>\n",
       "    <tr>\n",
       "      <th>GMVAE</th>\n",
       "      <td>NaN</td>\n",
       "      <td>25652.773839</td>\n",
       "      <td>NaN</td>\n",
       "      <td>0.000000</td>\n",
       "      <td>0.041428</td>\n",
       "      <td>0.061063</td>\n",
       "      <td>0.000000</td>\n",
       "    </tr>\n",
       "    <tr>\n",
       "      <th>VAEKMEANS</th>\n",
       "      <td>NaN</td>\n",
       "      <td>304.077859</td>\n",
       "      <td>NaN</td>\n",
       "      <td>1.751190</td>\n",
       "      <td>0.014703</td>\n",
       "      <td>0.033735</td>\n",
       "      <td>0.011739</td>\n",
       "    </tr>\n",
       "    <tr>\n",
       "      <th>VAESIM</th>\n",
       "      <td>NaN</td>\n",
       "      <td>52.326433</td>\n",
       "      <td>NaN</td>\n",
       "      <td>0.000000</td>\n",
       "      <td>0.025854</td>\n",
       "      <td>0.008672</td>\n",
       "      <td>0.001090</td>\n",
       "    </tr>\n",
       "    <tr>\n",
       "      <th>VaDE</th>\n",
       "      <td>NaN</td>\n",
       "      <td>8686.301961</td>\n",
       "      <td>NaN</td>\n",
       "      <td>2.412091</td>\n",
       "      <td>0.012696</td>\n",
       "      <td>0.116416</td>\n",
       "      <td>0.000000</td>\n",
       "    </tr>\n",
       "  </tbody>\n",
       "</table>\n",
       "</div>"
      ],
      "text/plain": [
       "           Tags       Runtime  Sweep  n_cluster   kNN_acc   lin_acc  stat_acc\n",
       "name                                                                         \n",
       "GMVAE       NaN  25652.773839    NaN   0.000000  0.041428  0.061063  0.000000\n",
       "VAEKMEANS   NaN    304.077859    NaN   1.751190  0.014703  0.033735  0.011739\n",
       "VAESIM      NaN     52.326433    NaN   0.000000  0.025854  0.008672  0.001090\n",
       "VaDE        NaN   8686.301961    NaN   2.412091  0.012696  0.116416  0.000000"
      ]
     },
     "execution_count": 20,
     "metadata": {},
     "output_type": "execute_result"
    }
   ],
   "source": [
    "df[df.dataset==\"pneumonia\"].groupby(\"name\").std()"
   ]
  },
  {
   "cell_type": "code",
   "execution_count": 19,
   "id": "e4d099be-fc9d-4d67-99aa-9f4d088bdc01",
   "metadata": {},
   "outputs": [
    {
     "data": {
      "text/plain": [
       "0.7735191637630662"
      ]
     },
     "execution_count": 19,
     "metadata": {},
     "output_type": "execute_result"
    }
   ],
   "source": [
    "df[(df.name==\"VAESIM\") & (df.dataset==\"pneumonia\")][\"kNN_acc\"].median()"
   ]
  }
 ],
 "metadata": {
  "kernelspec": {
   "display_name": "pytorch",
   "language": "python",
   "name": "pytorch"
  },
  "language_info": {
   "codemirror_mode": {
    "name": "ipython",
    "version": 3
   },
   "file_extension": ".py",
   "mimetype": "text/x-python",
   "name": "python",
   "nbconvert_exporter": "python",
   "pygments_lexer": "ipython3",
   "version": "3.9.12"
  }
 },
 "nbformat": 4,
 "nbformat_minor": 5
}
