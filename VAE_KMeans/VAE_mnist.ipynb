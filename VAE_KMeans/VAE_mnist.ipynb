{
 "cells": [
  {
   "cell_type": "code",
   "execution_count": 1,
   "id": "3ca0e9c5-aa6e-4800-8490-43d0d4d3adcf",
   "metadata": {},
   "outputs": [
    {
     "name": "stderr",
     "output_type": "stream",
     "text": [
      "Failed to detect the name of this notebook, you can set it manually with the WANDB_NOTEBOOK_NAME environment variable to enable code saving.\n",
      "\u001b[34m\u001b[1mwandb\u001b[0m: Currently logged in as: \u001b[33mmatteoferrante\u001b[0m (\u001b[33mtorvergatafmri\u001b[0m). Use \u001b[1m`wandb login --relogin`\u001b[0m to force relogin\n"
     ]
    }
   ],
   "source": [
    "import os\n",
    "import sys\n",
    "sys.path.append(\"../../NeuroGEN_Pytorch/\")\n",
    "from classes.VAE import VAE\n",
    "import numpy as np\n",
    "import torch\n",
    "from torch import nn\n",
    "from torch.utils.data import DataLoader, Dataset\n",
    "from torchvision.datasets import MNIST\n",
    "from torchvision.transforms import Compose,ToTensor,Resize,PILToTensor\n",
    "from torchvision.io import read_image\n",
    "from torchsummary import summary\n",
    "\n",
    "from torch import distributions as D\n",
    "import wandb\n",
    "\n",
    "from imutils import paths\n",
    "import matplotlib.pyplot as plt\n",
    "wandb.login()\n",
    "\n",
    "import tqdm\n",
    "from sklearn.cluster import KMeans\n",
    "from yellowbrick.cluster import KElbowVisualizer\n",
    "from sklearn.metrics import classification_report\n",
    "\n",
    "from sklearn.manifold import TSNE\n",
    "from evaluations import *"
   ]
  },
  {
   "cell_type": "code",
   "execution_count": 2,
   "id": "0a8d76f3-d96e-4966-a90f-174670a629d3",
   "metadata": {},
   "outputs": [],
   "source": [
    "class decoder(nn.Module):\n",
    "\n",
    "    def __init__(self, latent_dim=50,target_shape=(1,28,28) , n_conv=2, n_init_filters=64, condition_dim=10):\n",
    "\n",
    "        super().__init__()\n",
    "\n",
    "        self.condition_dim=condition_dim\n",
    "\n",
    "\n",
    "\n",
    "        # infer the starting dimension.\n",
    "        target_shape_side = target_shape[-1]\n",
    "\n",
    "\n",
    "\n",
    "        self.startDim = target_shape_side // (2 ** n_conv)\n",
    "\n",
    "        self.n_init_filters=n_init_filters\n",
    "        \n",
    "        #self.predecoder=nn.Unflatten(self.first_channels*self.startDim*self.startDim)\n",
    "        self.predecoder=nn.Linear(latent_dim,self.n_init_filters*self.startDim*self.startDim)\n",
    "        self.unflatten=nn.Unflatten(1,(self.n_init_filters,self.startDim,self.startDim))\n",
    "\n",
    "        #self.condition =  nn.Linear(self.condition_dim,self.startDim*self.startDim)\n",
    "        #self.condition2shape = nn.Unflatten(1, (1,self.startDim , self.startDim))\n",
    "        feature_layers = []\n",
    "        for i in range(n_conv):\n",
    "            if i==0:\n",
    "                feature_layers.append(nn.LazyConvTranspose2d(n_init_filters,kernel_size=4,stride=2,padding=1))\n",
    "            else:\n",
    "                feature_layers.append(nn.ConvTranspose2d(n_init_filters*(2**(i-1)),n_init_filters*2**i,kernel_size=4,stride=2,padding=1))\n",
    "\n",
    "        self.features = nn.Sequential(*feature_layers)\n",
    "\n",
    "        self.decoder_output=nn.LazyConvTranspose2d(target_shape[0],3,padding=1)\n",
    "        self.activation=nn.Sigmoid()\n",
    "\n",
    "    def forward(self,x):\n",
    "        x = self.predecoder(x)\n",
    "        x= self.unflatten(x)\n",
    "\n",
    "#         c= self.condition(c)\n",
    "#         c= self.condition2shape(c)\n",
    "        \n",
    "#         x= torch.concat((x,c),axis=1)\n",
    "        x = x.view(x.shape[0], -1, self.startDim, self.startDim)\n",
    "        x = self.features(x)\n",
    "        x = self.decoder_output(x)\n",
    "        x = self.activation(x)\n",
    "\n",
    "        return x"
   ]
  },
  {
   "cell_type": "code",
   "execution_count": 3,
   "id": "c86422a5-7125-4511-aaa7-38e9b0ee4600",
   "metadata": {},
   "outputs": [
    {
     "name": "stderr",
     "output_type": "stream",
     "text": [
      "/home/matteo/anaconda3/envs/pytorch/lib/python3.9/site-packages/torch/nn/modules/lazy.py:178: UserWarning: Lazy modules are a new feature under heavy development so changes to the API or functionality can happen at any moment.\n",
      "  warnings.warn('Lazy modules are a new feature under heavy development '\n"
     ]
    }
   ],
   "source": [
    "encoder_architecture=[[0,64],[0,128],[0,256]]\n",
    "decoder_architecture=[[0,64],[0,128]]\n",
    "\n",
    "latent_dim=32\n",
    "input_dim=(1,32,32)\n",
    "\n",
    "\n",
    "config={\"dataset\":\"MNIST\", \"type\":\"VAE\",\"encoder_architecture\":encoder_architecture,\"decoder_architecture\":decoder_architecture}\n",
    "config[\"latent_dim\"]=latent_dim\n",
    "config[\"input_dim\"]=input_dim\n",
    "\n",
    "d=decoder(latent_dim=latent_dim,n_init_filters=128,target_shape=input_dim)\n",
    "\n",
    "\n",
    "model=VAE(input_dim=input_dim,latent_dim=latent_dim,encoder_architecture=encoder_architecture,decoder_architecture=decoder_architecture)\n",
    "model.decoder=d\n",
    "#model=VAE(input_dim,latent_dim)"
   ]
  },
  {
   "cell_type": "code",
   "execution_count": 4,
   "id": "3ff91c2a-ff13-4986-94ec-1e97d5893a97",
   "metadata": {},
   "outputs": [],
   "source": [
    "# images_dir=r\"C:\\Users\\matte\\Dataset\\tor_vergata\\Dataset\\Img\\img_align_celeba\"\n",
    "#images_dir=r\"/home/matteo/NeuroGEN/Dataset/Img/img_align_celeba\"\n",
    "\n",
    "#other important definitions\n",
    "\n",
    "EPOCHS=20\n",
    "BS=2000\n",
    "INIT_LR=1e-4\n",
    "\n",
    "config[\"epochs\"]=EPOCHS\n",
    "config[\"BS\"]=BS\n",
    "config[\"init_lr\"]=INIT_LR\n"
   ]
  },
  {
   "cell_type": "code",
   "execution_count": 5,
   "id": "e8e2061a-d0fe-4179-91d2-b967f2ea3620",
   "metadata": {},
   "outputs": [
    {
     "name": "stdout",
     "output_type": "stream",
     "text": [
      "----------------------------------------------------------------\n",
      "        Layer (type)               Output Shape         Param #\n",
      "================================================================\n",
      "            Conv2d-1           [-1, 64, 16, 16]           1,088\n",
      "      ConvResBlock-2           [-1, 64, 16, 16]               0\n",
      "            Conv2d-3            [-1, 128, 8, 8]         131,200\n",
      "      ConvResBlock-4            [-1, 128, 8, 8]               0\n",
      "            Conv2d-5            [-1, 256, 4, 4]         524,544\n",
      "      ConvResBlock-6            [-1, 256, 4, 4]               0\n",
      "           Flatten-7                 [-1, 4096]               0\n",
      "            Linear-8                   [-1, 32]         131,104\n",
      "            Linear-9                   [-1, 32]         131,104\n",
      "================================================================\n",
      "Total params: 919,040\n",
      "Trainable params: 919,040\n",
      "Non-trainable params: 0\n",
      "----------------------------------------------------------------\n",
      "Input size (MB): 0.00\n",
      "Forward/backward pass size (MB): 0.47\n",
      "Params size (MB): 3.51\n",
      "Estimated Total Size (MB): 3.98\n",
      "----------------------------------------------------------------\n"
     ]
    }
   ],
   "source": [
    "summary(model.encoder,(1,32,32),device=\"cpu\")\n"
   ]
  },
  {
   "cell_type": "code",
   "execution_count": 6,
   "id": "a8579253-5f6b-48cc-beeb-ce2eca6952cf",
   "metadata": {},
   "outputs": [
    {
     "name": "stdout",
     "output_type": "stream",
     "text": [
      "----------------------------------------------------------------\n",
      "        Layer (type)               Output Shape         Param #\n",
      "================================================================\n",
      "            Linear-1                 [-1, 8192]         270,336\n",
      "         Unflatten-2            [-1, 128, 8, 8]               0\n",
      "   ConvTranspose2d-3          [-1, 128, 16, 16]         262,272\n",
      "   ConvTranspose2d-4          [-1, 256, 32, 32]         524,544\n",
      "   ConvTranspose2d-5            [-1, 1, 32, 32]           2,305\n",
      "           Sigmoid-6            [-1, 1, 32, 32]               0\n",
      "================================================================\n",
      "Total params: 1,059,457\n",
      "Trainable params: 1,059,457\n",
      "Non-trainable params: 0\n",
      "----------------------------------------------------------------\n",
      "Input size (MB): 0.00\n",
      "Forward/backward pass size (MB): 2.39\n",
      "Params size (MB): 4.04\n",
      "Estimated Total Size (MB): 6.43\n",
      "----------------------------------------------------------------\n"
     ]
    }
   ],
   "source": [
    "summary(model.decoder,(latent_dim,),device=\"cpu\")\n"
   ]
  },
  {
   "cell_type": "markdown",
   "id": "fc4186c2-c31e-4fb7-8e63-b100c3045272",
   "metadata": {},
   "source": [
    "## Dataloaders"
   ]
  },
  {
   "cell_type": "code",
   "execution_count": 7,
   "id": "232be7fb-284f-4afa-94b8-cc1ae520500b",
   "metadata": {},
   "outputs": [],
   "source": [
    "transform=Compose([Resize((32,32)),ToTensor()])\n",
    "\n",
    "train_dataset=MNIST('mnist_train', train=True, download=True,\n",
    "                             transform=transform)\n",
    "test_dataset=MNIST('mnist_test', train=False, download=True,\n",
    "                             transform=transform)\n"
   ]
  },
  {
   "cell_type": "code",
   "execution_count": 8,
   "id": "c2362759-4ac7-4edb-9f83-bc3ccd3e7a59",
   "metadata": {},
   "outputs": [],
   "source": [
    "train_dataloader=DataLoader(train_dataset,batch_size=BS,shuffle=True)\n",
    "test_dataloader=DataLoader(test_dataset,batch_size=BS,shuffle=True)\n"
   ]
  },
  {
   "cell_type": "markdown",
   "id": "90fa1c27-55e2-4889-955b-7dfead5b49a8",
   "metadata": {},
   "source": [
    "## Train Loop"
   ]
  },
  {
   "cell_type": "code",
   "execution_count": 9,
   "id": "f8bc6ddf-c136-4339-863a-03416adef76f",
   "metadata": {},
   "outputs": [],
   "source": [
    "base_path=\"models/vae_mnist_km\"\n",
    "os.makedirs(base_path,exist_ok=True)"
   ]
  },
  {
   "cell_type": "code",
   "execution_count": 10,
   "id": "43b6ddd5-b311-4d6f-8986-4964f24aac91",
   "metadata": {},
   "outputs": [
    {
     "name": "stdout",
     "output_type": "stream",
     "text": [
      "Using cuda:0 device\n"
     ]
    }
   ],
   "source": [
    "# Get cpu or gpu device for training.\n",
    "device = \"cuda:0\" if torch.cuda.is_available() else \"cpu\"\n",
    "model.to(device)\n",
    "print(f\"Using {device} device\")\n"
   ]
  },
  {
   "cell_type": "code",
   "execution_count": 11,
   "id": "24970a18-2b2f-439e-b36b-676c34a19444",
   "metadata": {},
   "outputs": [],
   "source": [
    "#wandb.init(project=\"NeuroGEN_Pytorch\",config=config)"
   ]
  },
  {
   "cell_type": "code",
   "execution_count": 12,
   "id": "6785672e-53ce-4e82-9def-812b892250da",
   "metadata": {},
   "outputs": [
    {
     "name": "stderr",
     "output_type": "stream",
     "text": [
      "Epoch 0: 100%|█████| 30/30 [00:10<00:00,  2.74batch/s, kl_loss=0.00594, loss=0.0661, recon_loss=0.0602]\n",
      "Val 0: 100%|█| 5/5 [00:01<00:00,  4.15batch/s, val_kl_loss=0.00594, val_loss=0.0672, val_recon_loss=0.0\n",
      "Epoch 1: 100%|█████| 30/30 [00:10<00:00,  2.97batch/s, kl_loss=0.00785, loss=0.0533, recon_loss=0.0455]\n",
      "Val 1: 100%|█| 5/5 [00:01<00:00,  4.14batch/s, val_kl_loss=0.00785, val_loss=0.0527, val_recon_loss=0.0\n",
      "Epoch 2: 100%|██████| 30/30 [00:09<00:00,  3.11batch/s, kl_loss=0.0102, loss=0.0469, recon_loss=0.0366]\n",
      "Val 2: 100%|█| 5/5 [00:01<00:00,  4.09batch/s, val_kl_loss=0.0102, val_loss=0.0473, val_recon_loss=0.03\n",
      "Epoch 3: 100%|██████| 30/30 [00:10<00:00,  2.95batch/s, kl_loss=0.0115, loss=0.0438, recon_loss=0.0323]\n",
      "Val 3: 100%|█| 5/5 [00:01<00:00,  3.99batch/s, val_kl_loss=0.0115, val_loss=0.0437, val_recon_loss=0.03\n",
      "Epoch 4: 100%|██████| 30/30 [00:10<00:00,  2.84batch/s, kl_loss=0.0125, loss=0.0423, recon_loss=0.0298]\n",
      "Val 4: 100%|█| 5/5 [00:01<00:00,  3.71batch/s, val_kl_loss=0.0125, val_loss=0.0417, val_recon_loss=0.02\n",
      "Epoch 5: 100%|██████| 30/30 [00:11<00:00,  2.67batch/s, kl_loss=0.0132, loss=0.0408, recon_loss=0.0275]\n",
      "Val 5: 100%|█| 5/5 [00:01<00:00,  3.37batch/s, val_kl_loss=0.0132, val_loss=0.0404, val_recon_loss=0.02\n",
      "Epoch 6: 100%|███████| 30/30 [00:11<00:00,  2.70batch/s, kl_loss=0.0135, loss=0.039, recon_loss=0.0255]\n",
      "Val 6: 100%|█| 5/5 [00:01<00:00,  4.50batch/s, val_kl_loss=0.0135, val_loss=0.039, val_recon_loss=0.025\n",
      "Epoch 7: 100%|██████| 30/30 [00:11<00:00,  2.72batch/s, kl_loss=0.0136, loss=0.0385, recon_loss=0.0249]\n",
      "Val 7: 100%|█| 5/5 [00:01<00:00,  3.69batch/s, val_kl_loss=0.0136, val_loss=0.0379, val_recon_loss=0.02\n",
      "Epoch 8: 100%|██████| 30/30 [00:10<00:00,  2.74batch/s, kl_loss=0.0138, loss=0.0379, recon_loss=0.0241]\n",
      "Val 8: 100%|█| 5/5 [00:01<00:00,  4.37batch/s, val_kl_loss=0.0138, val_loss=0.0376, val_recon_loss=0.02\n",
      "Epoch 9: 100%|██████| 30/30 [00:11<00:00,  2.70batch/s, kl_loss=0.0139, loss=0.0372, recon_loss=0.0232]\n",
      "Val 9: 100%|█| 5/5 [00:01<00:00,  3.79batch/s, val_kl_loss=0.0139, val_loss=0.0368, val_recon_loss=0.02\n",
      "Epoch 10: 100%|█████| 30/30 [00:11<00:00,  2.61batch/s, kl_loss=0.0138, loss=0.0367, recon_loss=0.0229]\n",
      "Val 10: 100%|█| 5/5 [00:01<00:00,  3.88batch/s, val_kl_loss=0.0138, val_loss=0.0366, val_recon_loss=0.0\n",
      "Epoch 11: 100%|██████| 30/30 [00:11<00:00,  2.66batch/s, kl_loss=0.0137, loss=0.037, recon_loss=0.0233]\n",
      "Val 11: 100%|█| 5/5 [00:01<00:00,  3.83batch/s, val_kl_loss=0.0137, val_loss=0.0364, val_recon_loss=0.0\n",
      "Epoch 12: 100%|█████| 30/30 [00:11<00:00,  2.71batch/s, kl_loss=0.0137, loss=0.0364, recon_loss=0.0226]\n",
      "Val 12: 100%|█| 5/5 [00:01<00:00,  3.85batch/s, val_kl_loss=0.0137, val_loss=0.036, val_recon_loss=0.02\n",
      "Epoch 13: 100%|██████| 30/30 [00:11<00:00,  2.66batch/s, kl_loss=0.0135, loss=0.036, recon_loss=0.0225]\n",
      "Val 13: 100%|█| 5/5 [00:01<00:00,  3.76batch/s, val_kl_loss=0.0135, val_loss=0.0355, val_recon_loss=0.0\n",
      "Epoch 14: 100%|█████| 30/30 [00:11<00:00,  2.71batch/s, kl_loss=0.0138, loss=0.0362, recon_loss=0.0224]\n",
      "Val 14: 100%|█| 5/5 [00:01<00:00,  4.32batch/s, val_kl_loss=0.0138, val_loss=0.0352, val_recon_loss=0.0\n",
      "Epoch 15: 100%|█████| 30/30 [00:10<00:00,  2.78batch/s, kl_loss=0.0134, loss=0.0354, recon_loss=0.0221]\n",
      "Val 15: 100%|█| 5/5 [00:01<00:00,  3.32batch/s, val_kl_loss=0.0134, val_loss=0.0352, val_recon_loss=0.0\n",
      "Epoch 16: 100%|█████| 30/30 [00:11<00:00,  2.69batch/s, kl_loss=0.0134, loss=0.0356, recon_loss=0.0222]\n",
      "Val 16: 100%|█| 5/5 [00:01<00:00,  3.90batch/s, val_kl_loss=0.0134, val_loss=0.0353, val_recon_loss=0.0\n",
      "Epoch 17: 100%|█████| 30/30 [00:11<00:00,  2.62batch/s, kl_loss=0.0134, loss=0.0353, recon_loss=0.0219]\n",
      "Val 17: 100%|█| 5/5 [00:01<00:00,  3.96batch/s, val_kl_loss=0.0134, val_loss=0.0349, val_recon_loss=0.0\n",
      "Epoch 18: 100%|█████| 30/30 [00:11<00:00,  2.69batch/s, kl_loss=0.0135, loss=0.0352, recon_loss=0.0217]\n",
      "Val 18: 100%|█| 5/5 [00:01<00:00,  3.91batch/s, val_kl_loss=0.0135, val_loss=0.0352, val_recon_loss=0.0\n",
      "Epoch 19: 100%|█████| 30/30 [00:11<00:00,  2.70batch/s, kl_loss=0.0134, loss=0.0351, recon_loss=0.0217]\n",
      "Val 19: 100%|█| 5/5 [00:01<00:00,  3.71batch/s, val_kl_loss=0.0134, val_loss=0.0352, val_recon_loss=0.0\n"
     ]
    }
   ],
   "source": [
    "\n",
    "#model.load_state_dict(torch.load(r\"models/vae/model.ckp\"))\n",
    "train=True\n",
    "optimizer=torch.optim.Adam(model.parameters(),lr=INIT_LR)\n",
    "\n",
    "if train:\n",
    "    model.fit(train_dataloader=train_dataloader,val_dataloader=test_dataloader,epochs=EPOCHS,optimizer=optimizer,device=device,wandb_log=False,save_model=base_path,early_stop=3)\n",
    "    \n",
    "else:\n",
    "    model.load_state_dict(torch.load(os.path.join(base_path,\"model.ckp\")))"
   ]
  },
  {
   "cell_type": "markdown",
   "id": "6a5e623c-0d63-4542-a7fc-8797ce93b985",
   "metadata": {},
   "source": [
    "# BASELINE EVALUATION"
   ]
  },
  {
   "cell_type": "code",
   "execution_count": 13,
   "id": "cd9ab124-65b8-4c1e-b1db-9721aed04333",
   "metadata": {},
   "outputs": [
    {
     "name": "stderr",
     "output_type": "stream",
     "text": [
      "100%|██████████████████████████████████████████████████████████████████| 30/30 [00:06<00:00,  4.88it/s]\n",
      "100%|████████████████████████████████████████████████████████████████████| 5/5 [00:00<00:00,  5.03it/s]\n"
     ]
    }
   ],
   "source": [
    "cl_train=[]\n",
    "y_train=[]\n",
    "z_train=[]\n",
    "\n",
    "\n",
    "cl_test=[]\n",
    "y_test=[]\n",
    "z_test=[]\n",
    "\n",
    "with torch.no_grad():\n",
    "    for x,y in tqdm.tqdm(train_dataloader):\n",
    "        x=x.to(device)\n",
    "        z_mu,z_sigma=model.encoder(x)\n",
    "        dist=D.normal.Normal(z_mu, torch.exp(0.5 * z_sigma))\n",
    "        z=dist.sample().cpu()\n",
    "        \n",
    "        z_train.append(z.numpy())\n",
    "        y_train.append(y.numpy())\n",
    "        \n",
    "    for x,y in tqdm.tqdm(test_dataloader):\n",
    "        x=x.to(device)\n",
    "        z_mu,z_sigma=model.encoder(x)\n",
    "        dist=D.normal.Normal(z_mu, torch.exp(0.5 * z_sigma))\n",
    "        z=dist.sample().cpu()\n",
    "        \n",
    "        z_test.append(z.numpy())\n",
    "        y_test.append(y.numpy())\n",
    "        \n",
    "    #cl_train=np.concatenate(cl_train,0)\n",
    "    z_train=np.concatenate(z_train,0)\n",
    "    y_train=np.concatenate(y_train,0)\n",
    "\n",
    "    #cl_test=np.concatenate(cl_test,0)\n",
    "    z_test=np.concatenate(z_test,0)\n",
    "    y_test=np.concatenate(y_test,0)\n",
    "        \n",
    "\n"
   ]
  },
  {
   "cell_type": "markdown",
   "id": "a12fa3d7-10f7-4659-b7c3-05d87db84a27",
   "metadata": {},
   "source": [
    "## Looking for best kmeans K"
   ]
  },
  {
   "cell_type": "code",
   "execution_count": 14,
   "id": "9e2de290-8409-4ac2-950f-884d2bac4c9f",
   "metadata": {},
   "outputs": [
    {
     "data": {
      "image/png": "[encoded data removed]",
      "text/plain": [
       "<Figure size 432x288 with 2 Axes>"
      ]
     },
     "metadata": {},
     "output_type": "display_data"
    },
    {
     "data": {
      "text/plain": [
       "<AxesSubplot:title={'center':'Distortion Score Elbow for KMeans Clustering'}, xlabel='k', ylabel='distortion score'>"
      ]
     },
     "execution_count": 14,
     "metadata": {},
     "output_type": "execute_result"
    }
   ],
   "source": [
    "kmodel = KMeans()\n",
    "visualizer = KElbowVisualizer(kmodel, k=[5,10,15,20,25,30,35,40,50])\n",
    "\n",
    "visualizer.fit(z_train)        # Fit the data to the visualizer\n",
    "visualizer.show()        # Finalize and render the figure"
   ]
  },
  {
   "cell_type": "code",
   "execution_count": 15,
   "id": "5332e1c6-c6d4-4a7a-8e07-2070bd81e584",
   "metadata": {},
   "outputs": [],
   "source": [
    "n_clusters=visualizer.elbow_value_\n",
    "kmodel=KMeans(n_clusters=n_clusters)\n",
    "kmodel.fit(z_train)\n",
    "\n",
    "cl_train=kmodel.predict(z_train)\n",
    "cl_test=kmodel.predict(z_test)\n",
    "\n"
   ]
  },
  {
   "cell_type": "code",
   "execution_count": 16,
   "id": "00e3d582-313b-4697-9eb0-c6c7179371e7",
   "metadata": {},
   "outputs": [
    {
     "data": {
      "text/html": [
       "wandb version 0.13.1 is available!  To upgrade, please run:\n",
       " $ pip install wandb --upgrade"
      ],
      "text/plain": [
       "<IPython.core.display.HTML object>"
      ]
     },
     "metadata": {},
     "output_type": "display_data"
    },
    {
     "data": {
      "text/html": [
       "Tracking run with wandb version 0.12.16"
      ],
      "text/plain": [
       "<IPython.core.display.HTML object>"
      ]
     },
     "metadata": {},
     "output_type": "display_data"
    },
    {
     "data": {
      "text/html": [
       "Run data is saved locally in <code>/home/matteo/Unsupervised/vaesim_baselines/VAE_KMeans/wandb/run-20220812_214656-1im7zwtv</code>"
      ],
      "text/plain": [
       "<IPython.core.display.HTML object>"
      ]
     },
     "metadata": {},
     "output_type": "display_data"
    },
    {
     "data": {
      "text/html": [
       "Syncing run <strong><a href=\"https://wandb.ai/torvergatafmri/VAESIM_CHARACT/runs/1im7zwtv\" target=\"_blank\">stoic-shape-28</a></strong> to <a href=\"https://wandb.ai/torvergatafmri/VAESIM_CHARACT\" target=\"_blank\">Weights & Biases</a> (<a href=\"https://wandb.me/run\" target=\"_blank\">docs</a>)<br/>"
      ],
      "text/plain": [
       "<IPython.core.display.HTML object>"
      ]
     },
     "metadata": {},
     "output_type": "display_data"
    },
    {
     "data": {
      "text/html": [
       "<button onClick=\"this.nextSibling.style.display='block';this.style.display='none';\">Display W&B run</button><iframe src=\"https://wandb.ai/torvergatafmri/VAESIM_CHARACT/runs/1im7zwtv?jupyter=true\" style=\"border:none;width:100%;height:420px;display:none;\"></iframe>"
      ],
      "text/plain": [
       "<wandb.sdk.wandb_run.Run at 0x7f60325e3f70>"
      ]
     },
     "execution_count": 16,
     "metadata": {},
     "output_type": "execute_result"
    }
   ],
   "source": [
    "config={\"name\":\"VAEKMEANS\",\"dataset\":\"MNIST\",\"n_cluster\":n_clusters}\n",
    "wandb.init(project=\"VAESIM_CHARACT\",config=config)"
   ]
  },
  {
   "cell_type": "code",
   "execution_count": 17,
   "id": "aee34b63-b3d4-4e57-86a8-2ef48938f9c4",
   "metadata": {},
   "outputs": [
    {
     "name": "stdout",
     "output_type": "stream",
     "text": [
      "[INFO] compute mappings and stat accuracy\n",
      "{0: 7, 1: 8, 2: 3, 3: 9, 4: 0, 5: 4, 6: 8, 7: 5, 8: 6, 9: 0, 10: 1, 11: 0, 12: 2, 13: 7, 14: 5, 15: 4, 16: 2, 17: 1, 18: 6, 19: 3}\n",
      "              precision    recall  f1-score   support\n",
      "\n",
      "           0       0.85      0.88      0.86       980\n",
      "           1       0.81      0.93      0.87      1135\n",
      "           2       0.85      0.69      0.76      1032\n",
      "           3       0.65      0.72      0.69      1010\n",
      "           4       0.46      0.55      0.50       982\n",
      "           5       0.63      0.58      0.60       892\n",
      "           6       0.80      0.86      0.83       958\n",
      "           7       0.76      0.71      0.73      1028\n",
      "           8       0.69      0.70      0.69       974\n",
      "           9       0.52      0.37      0.43      1009\n",
      "\n",
      "    accuracy                           0.70     10000\n",
      "   macro avg       0.70      0.70      0.70     10000\n",
      "weighted avg       0.70      0.70      0.70     10000\n",
      "\n",
      "[INFO] compute kNN accuracy\n"
     ]
    },
    {
     "name": "stderr",
     "output_type": "stream",
     "text": [
      "/home/matteo/anaconda3/envs/pytorch/lib/python3.9/site-packages/torch/nn/modules/lazy.py:178: UserWarning: Lazy modules are a new feature under heavy development so changes to the API or functionality can happen at any moment.\n",
      "  warnings.warn('Lazy modules are a new feature under heavy development '\n"
     ]
    },
    {
     "name": "stdout",
     "output_type": "stream",
     "text": [
      "              precision    recall  f1-score   support\n",
      "\n",
      "           0       0.89      0.94      0.91       980\n",
      "           1       0.77      0.97      0.86      1135\n",
      "           2       0.86      0.81      0.83      1032\n",
      "           3       0.77      0.81      0.79      1010\n",
      "           4       0.73      0.73      0.73       982\n",
      "           5       0.79      0.70      0.74       892\n",
      "           6       0.87      0.91      0.89       958\n",
      "           7       0.82      0.81      0.82      1028\n",
      "           8       0.81      0.66      0.73       974\n",
      "           9       0.72      0.67      0.69      1009\n",
      "\n",
      "    accuracy                           0.80     10000\n",
      "   macro avg       0.80      0.80      0.80     10000\n",
      "weighted avg       0.80      0.80      0.80     10000\n",
      "\n",
      "[INFO] compute linear accuracy\n"
     ]
    },
    {
     "name": "stderr",
     "output_type": "stream",
     "text": [
      "[LINEAR] epoch 9 loss: 0.8847764134407043 acc: 0.7708333730697632: 100%|█| 10/10 [00:06<00:00,  1.45it/\n"
     ]
    },
    {
     "name": "stdout",
     "output_type": "stream",
     "text": [
      "              precision    recall  f1-score   support\n",
      "\n",
      "           0       0.86      0.86      0.86       980\n",
      "           1       0.78      0.87      0.82      1135\n",
      "           2       0.78      0.71      0.74      1032\n",
      "           3       0.74      0.77      0.75      1010\n",
      "           4       0.72      0.73      0.73       982\n",
      "           5       0.67      0.61      0.64       892\n",
      "           6       0.79      0.87      0.83       958\n",
      "           7       0.79      0.80      0.79      1028\n",
      "           8       0.70      0.68      0.69       974\n",
      "           9       0.71      0.66      0.69      1009\n",
      "\n",
      "    accuracy                           0.76     10000\n",
      "   macro avg       0.76      0.76      0.75     10000\n",
      "weighted avg       0.76      0.76      0.76     10000\n",
      "\n"
     ]
    }
   ],
   "source": [
    "outputs=model_evaluation(z_train,y_train,z_test,y_test,cl_train,cl_test,device=\"cuda\",n_cluster=n_clusters)\n",
    "wandb.log(outputs)"
   ]
  },
  {
   "cell_type": "code",
   "execution_count": null,
   "id": "37c3aa7a-e1d7-4376-9f53-41c35d4e26a8",
   "metadata": {},
   "outputs": [],
   "source": []
  }
 ],
 "metadata": {
  "kernelspec": {
   "display_name": "pytorch",
   "language": "python",
   "name": "pytorch"
  },
  "language_info": {
   "codemirror_mode": {
    "name": "ipython",
    "version": 3
   },
   "file_extension": ".py",
   "mimetype": "text/x-python",
   "name": "python",
   "nbconvert_exporter": "python",
   "pygments_lexer": "ipython3",
   "version": "3.9.12"
  }
 },
 "nbformat": 4,
 "nbformat_minor": 5
}
