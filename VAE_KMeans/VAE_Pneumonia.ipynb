{
 "cells": [
  {
   "cell_type": "code",
   "execution_count": 1,
   "id": "3ca0e9c5-aa6e-4800-8490-43d0d4d3adcf",
   "metadata": {},
   "outputs": [
    {
     "name": "stderr",
     "output_type": "stream",
     "text": [
      "Failed to detect the name of this notebook, you can set it manually with the WANDB_NOTEBOOK_NAME environment variable to enable code saving.\n",
      "\u001b[34m\u001b[1mwandb\u001b[0m: Currently logged in as: \u001b[33mmatteoferrante\u001b[0m (\u001b[33mtorvergatafmri\u001b[0m). Use \u001b[1m`wandb login --relogin`\u001b[0m to force relogin\n"
     ]
    }
   ],
   "source": [
    "import os\n",
    "import sys\n",
    "sys.path.append(\"../../NeuroGEN_Pytorch/\")\n",
    "from classes.VAE import VAE\n",
    "import numpy as np\n",
    "import torch\n",
    "from torch import nn\n",
    "from torch.utils.data import DataLoader, Dataset\n",
    "from torchvision.datasets import MNIST\n",
    "from torchvision.transforms import Compose,ToTensor,Resize,PILToTensor\n",
    "from torchvision.io import read_image\n",
    "from torchsummary import summary\n",
    "\n",
    "from torch import distributions as D\n",
    "import wandb\n",
    "\n",
    "from imutils import paths\n",
    "import matplotlib.pyplot as plt\n",
    "wandb.login()\n",
    "\n",
    "import tqdm\n",
    "from sklearn.cluster import KMeans\n",
    "from yellowbrick.cluster import KElbowVisualizer\n",
    "from sklearn.metrics import classification_report\n",
    "\n",
    "from sklearn.manifold import TSNE\n",
    "from evaluations import *\n",
    "\n",
    "\n",
    "import medmnist\n",
    "from medmnist import INFO, Evaluator"
   ]
  },
  {
   "cell_type": "code",
   "execution_count": 2,
   "id": "0a8d76f3-d96e-4966-a90f-174670a629d3",
   "metadata": {},
   "outputs": [],
   "source": [
    "class decoder(nn.Module):\n",
    "\n",
    "    def __init__(self, latent_dim=50,target_shape=(1,28,28) , n_conv=2, n_init_filters=64, condition_dim=10):\n",
    "\n",
    "        super().__init__()\n",
    "\n",
    "        self.condition_dim=condition_dim\n",
    "\n",
    "\n",
    "\n",
    "        # infer the starting dimension.\n",
    "        target_shape_side = target_shape[-1]\n",
    "\n",
    "\n",
    "\n",
    "        self.startDim = target_shape_side // (2 ** n_conv)\n",
    "\n",
    "        self.n_init_filters=n_init_filters\n",
    "        \n",
    "        #self.predecoder=nn.Unflatten(self.first_channels*self.startDim*self.startDim)\n",
    "        self.predecoder=nn.Linear(latent_dim,self.n_init_filters*self.startDim*self.startDim)\n",
    "        self.unflatten=nn.Unflatten(1,(self.n_init_filters,self.startDim,self.startDim))\n",
    "\n",
    "        #self.condition =  nn.Linear(self.condition_dim,self.startDim*self.startDim)\n",
    "        #self.condition2shape = nn.Unflatten(1, (1,self.startDim , self.startDim))\n",
    "        feature_layers = []\n",
    "        for i in range(n_conv):\n",
    "            if i==0:\n",
    "                feature_layers.append(nn.LazyConvTranspose2d(n_init_filters,kernel_size=4,stride=2,padding=1))\n",
    "            else:\n",
    "                feature_layers.append(nn.ConvTranspose2d(n_init_filters*(2**(i-1)),n_init_filters*2**i,kernel_size=4,stride=2,padding=1))\n",
    "\n",
    "        self.features = nn.Sequential(*feature_layers)\n",
    "\n",
    "        self.decoder_output=nn.LazyConvTranspose2d(target_shape[0],3,padding=1)\n",
    "        self.activation=nn.Sigmoid()\n",
    "\n",
    "    def forward(self,x):\n",
    "        x = self.predecoder(x)\n",
    "        x= self.unflatten(x)\n",
    "\n",
    "#         c= self.condition(c)\n",
    "#         c= self.condition2shape(c)\n",
    "        \n",
    "#         x= torch.concat((x,c),axis=1)\n",
    "        x = x.view(x.shape[0], -1, self.startDim, self.startDim)\n",
    "        x = self.features(x)\n",
    "        x = self.decoder_output(x)\n",
    "        x = self.activation(x)\n",
    "\n",
    "        return x"
   ]
  },
  {
   "cell_type": "code",
   "execution_count": 3,
   "id": "c86422a5-7125-4511-aaa7-38e9b0ee4600",
   "metadata": {},
   "outputs": [
    {
     "name": "stderr",
     "output_type": "stream",
     "text": [
      "/home/matteo/anaconda3/envs/pytorch/lib/python3.9/site-packages/torch/nn/modules/lazy.py:178: UserWarning: Lazy modules are a new feature under heavy development so changes to the API or functionality can happen at any moment.\n",
      "  warnings.warn('Lazy modules are a new feature under heavy development '\n"
     ]
    }
   ],
   "source": [
    "encoder_architecture=[[0,64],[0,128],[0,256]]\n",
    "decoder_architecture=[[0,64],[0,128]]\n",
    "\n",
    "latent_dim=32\n",
    "input_dim=(1,32,32)\n",
    "\n",
    "\n",
    "config={\"dataset\":\"MNIST\", \"type\":\"VAE\",\"encoder_architecture\":encoder_architecture,\"decoder_architecture\":decoder_architecture}\n",
    "config[\"latent_dim\"]=latent_dim\n",
    "config[\"input_dim\"]=input_dim\n",
    "\n",
    "d=decoder(latent_dim=latent_dim,n_init_filters=128,target_shape=input_dim)\n",
    "\n",
    "\n",
    "model=VAE(input_dim=input_dim,latent_dim=latent_dim,encoder_architecture=encoder_architecture,decoder_architecture=decoder_architecture)\n",
    "model.decoder=d\n",
    "#model=VAE(input_dim,latent_dim)"
   ]
  },
  {
   "cell_type": "code",
   "execution_count": 4,
   "id": "3ff91c2a-ff13-4986-94ec-1e97d5893a97",
   "metadata": {},
   "outputs": [],
   "source": [
    "# images_dir=r\"C:\\Users\\matte\\Dataset\\tor_vergata\\Dataset\\Img\\img_align_celeba\"\n",
    "#images_dir=r\"/home/matteo/NeuroGEN/Dataset/Img/img_align_celeba\"\n",
    "\n",
    "#other important definitions\n",
    "\n",
    "EPOCHS=20\n",
    "BS=2000\n",
    "INIT_LR=1e-4\n",
    "\n",
    "config[\"epochs\"]=EPOCHS\n",
    "config[\"BS\"]=BS\n",
    "config[\"init_lr\"]=INIT_LR\n"
   ]
  },
  {
   "cell_type": "code",
   "execution_count": 5,
   "id": "e8e2061a-d0fe-4179-91d2-b967f2ea3620",
   "metadata": {},
   "outputs": [
    {
     "name": "stdout",
     "output_type": "stream",
     "text": [
      "----------------------------------------------------------------\n",
      "        Layer (type)               Output Shape         Param #\n",
      "================================================================\n",
      "            Conv2d-1           [-1, 64, 16, 16]           1,088\n",
      "      ConvResBlock-2           [-1, 64, 16, 16]               0\n",
      "            Conv2d-3            [-1, 128, 8, 8]         131,200\n",
      "      ConvResBlock-4            [-1, 128, 8, 8]               0\n",
      "            Conv2d-5            [-1, 256, 4, 4]         524,544\n",
      "      ConvResBlock-6            [-1, 256, 4, 4]               0\n",
      "           Flatten-7                 [-1, 4096]               0\n",
      "            Linear-8                   [-1, 32]         131,104\n",
      "            Linear-9                   [-1, 32]         131,104\n",
      "================================================================\n",
      "Total params: 919,040\n",
      "Trainable params: 919,040\n",
      "Non-trainable params: 0\n",
      "----------------------------------------------------------------\n",
      "Input size (MB): 0.00\n",
      "Forward/backward pass size (MB): 0.47\n",
      "Params size (MB): 3.51\n",
      "Estimated Total Size (MB): 3.98\n",
      "----------------------------------------------------------------\n"
     ]
    }
   ],
   "source": [
    "summary(model.encoder,(1,32,32),device=\"cpu\")\n"
   ]
  },
  {
   "cell_type": "code",
   "execution_count": 6,
   "id": "a8579253-5f6b-48cc-beeb-ce2eca6952cf",
   "metadata": {},
   "outputs": [
    {
     "name": "stdout",
     "output_type": "stream",
     "text": [
      "----------------------------------------------------------------\n",
      "        Layer (type)               Output Shape         Param #\n",
      "================================================================\n",
      "            Linear-1                 [-1, 8192]         270,336\n",
      "         Unflatten-2            [-1, 128, 8, 8]               0\n",
      "   ConvTranspose2d-3          [-1, 128, 16, 16]         262,272\n",
      "   ConvTranspose2d-4          [-1, 256, 32, 32]         524,544\n",
      "   ConvTranspose2d-5            [-1, 1, 32, 32]           2,305\n",
      "           Sigmoid-6            [-1, 1, 32, 32]               0\n",
      "================================================================\n",
      "Total params: 1,059,457\n",
      "Trainable params: 1,059,457\n",
      "Non-trainable params: 0\n",
      "----------------------------------------------------------------\n",
      "Input size (MB): 0.00\n",
      "Forward/backward pass size (MB): 2.39\n",
      "Params size (MB): 4.04\n",
      "Estimated Total Size (MB): 6.43\n",
      "----------------------------------------------------------------\n"
     ]
    }
   ],
   "source": [
    "summary(model.decoder,(latent_dim,),device=\"cpu\")\n"
   ]
  },
  {
   "cell_type": "markdown",
   "id": "fc4186c2-c31e-4fb7-8e63-b100c3045272",
   "metadata": {},
   "source": [
    "## Dataloaders"
   ]
  },
  {
   "cell_type": "code",
   "execution_count": 7,
   "id": "232be7fb-284f-4afa-94b8-cc1ae520500b",
   "metadata": {},
   "outputs": [
    {
     "name": "stdout",
     "output_type": "stream",
     "text": [
      "Using downloaded and verified file: /home/matteo/.medmnist/pneumoniamnist.npz\n",
      "Using downloaded and verified file: /home/matteo/.medmnist/pneumoniamnist.npz\n",
      "Using downloaded and verified file: /home/matteo/.medmnist/pneumoniamnist.npz\n"
     ]
    }
   ],
   "source": [
    "transform=Compose([Resize((32,32)),ToTensor()])\n",
    "\n",
    "data_flag = 'pneumoniamnist'\n",
    "# data_flag = 'breastmnist'\n",
    "download = True\n",
    "\n",
    "\n",
    "info = INFO[data_flag]\n",
    "task = info['task']\n",
    "n_channels = info['n_channels']\n",
    "n_classes = len(info['label'])\n",
    "\n",
    "DataClass = getattr(medmnist, info['python_class'])\n",
    "train_dataset = DataClass(split='train', transform=transform, download=download)\n",
    "val_dataset = DataClass(split='val', transform=transform, download=download)\n",
    "test_dataset = DataClass(split='test', transform=transform, download=download)\n",
    "\n",
    "\n",
    "train_dataloader=DataLoader(train_dataset,batch_size=BS,shuffle=True)\n",
    "val_dataloader=DataLoader(val_dataset,batch_size=BS,shuffle=True)\n",
    "\n",
    "test_dataloader=DataLoader(test_dataset,batch_size=BS,shuffle=True)\n"
   ]
  },
  {
   "cell_type": "code",
   "execution_count": 8,
   "id": "c2362759-4ac7-4edb-9f83-bc3ccd3e7a59",
   "metadata": {},
   "outputs": [],
   "source": [
    "train_dataloader=DataLoader(train_dataset,batch_size=BS,shuffle=True)\n",
    "test_dataloader=DataLoader(test_dataset,batch_size=BS,shuffle=True)\n"
   ]
  },
  {
   "cell_type": "markdown",
   "id": "90fa1c27-55e2-4889-955b-7dfead5b49a8",
   "metadata": {},
   "source": [
    "## Train Loop"
   ]
  },
  {
   "cell_type": "code",
   "execution_count": 9,
   "id": "f8bc6ddf-c136-4339-863a-03416adef76f",
   "metadata": {},
   "outputs": [],
   "source": [
    "base_path=\"models/vae_pneumonia_km\"\n",
    "os.makedirs(base_path,exist_ok=True)"
   ]
  },
  {
   "cell_type": "code",
   "execution_count": 10,
   "id": "43b6ddd5-b311-4d6f-8986-4964f24aac91",
   "metadata": {},
   "outputs": [
    {
     "name": "stdout",
     "output_type": "stream",
     "text": [
      "Using cuda:0 device\n"
     ]
    }
   ],
   "source": [
    "# Get cpu or gpu device for training.\n",
    "device = \"cuda:0\" if torch.cuda.is_available() else \"cpu\"\n",
    "model.to(device)\n",
    "print(f\"Using {device} device\")\n"
   ]
  },
  {
   "cell_type": "code",
   "execution_count": 11,
   "id": "24970a18-2b2f-439e-b36b-676c34a19444",
   "metadata": {},
   "outputs": [],
   "source": [
    "#wandb.init(project=\"NeuroGEN_Pytorch\",config=config)"
   ]
  },
  {
   "cell_type": "code",
   "execution_count": 12,
   "id": "6785672e-53ce-4e82-9def-812b892250da",
   "metadata": {},
   "outputs": [
    {
     "name": "stderr",
     "output_type": "stream",
     "text": [
      "Epoch 0: 100%|██████| 3/3 [00:02<00:00,  1.31batch/s, kl_loss=0.000183, loss=0.0295, recon_loss=0.0293]\n",
      "Val 0: 100%|█| 1/1 [00:00<00:00, 12.67batch/s, val_kl_loss=0.000183, val_loss=0.0293, val_recon_loss=0.\n",
      "Epoch 1: 100%|████████| 3/3 [00:00<00:00,  3.32batch/s, kl_loss=0.0007, loss=0.0276, recon_loss=0.0269]\n",
      "Val 1: 100%|█| 1/1 [00:00<00:00, 12.53batch/s, val_kl_loss=0.0007, val_loss=0.0275, val_recon_loss=0.02\n",
      "Epoch 2: 100%|███████| 3/3 [00:00<00:00,  3.12batch/s, kl_loss=0.00104, loss=0.0254, recon_loss=0.0244]\n",
      "Val 2: 100%|█| 1/1 [00:00<00:00, 13.38batch/s, val_kl_loss=0.00104, val_loss=0.025, val_recon_loss=0.02\n",
      "Epoch 3: 100%|████████| 3/3 [00:01<00:00,  2.86batch/s, kl_loss=0.00182, loss=0.023, recon_loss=0.0212]\n",
      "Val 3: 100%|█| 1/1 [00:00<00:00,  8.99batch/s, val_kl_loss=0.00182, val_loss=0.0229, val_recon_loss=0.0\n",
      "Epoch 4: 100%|███████| 3/3 [00:00<00:00,  3.15batch/s, kl_loss=0.00136, loss=0.0229, recon_loss=0.0215]\n",
      "Val 4: 100%|█| 1/1 [00:00<00:00, 12.49batch/s, val_kl_loss=0.00136, val_loss=0.0218, val_recon_loss=0.0\n",
      "Epoch 5: 100%|████████| 3/3 [00:00<00:00,  3.23batch/s, kl_loss=0.0016, loss=0.0214, recon_loss=0.0198]\n",
      "Val 5: 100%|█| 1/1 [00:00<00:00, 12.54batch/s, val_kl_loss=0.0016, val_loss=0.0209, val_recon_loss=0.01\n",
      "Epoch 6: 100%|███████| 3/3 [00:00<00:00,  3.38batch/s, kl_loss=0.00152, loss=0.0202, recon_loss=0.0187]\n",
      "Val 6: 100%|█| 1/1 [00:00<00:00, 11.95batch/s, val_kl_loss=0.00152, val_loss=0.0206, val_recon_loss=0.0\n",
      "Epoch 7: 100%|█████████| 3/3 [00:00<00:00,  3.61batch/s, kl_loss=0.00181, loss=0.02, recon_loss=0.0182]\n",
      "Val 7: 100%|█| 1/1 [00:00<00:00, 11.42batch/s, val_kl_loss=0.00181, val_loss=0.02, val_recon_loss=0.018\n",
      "Epoch 8: 100%|█████████| 3/3 [00:00<00:00,  3.81batch/s, kl_loss=0.00141, loss=0.02, recon_loss=0.0186]\n",
      "Val 8: 100%|█| 1/1 [00:00<00:00, 12.23batch/s, val_kl_loss=0.00141, val_loss=0.0195, val_recon_loss=0.0\n",
      "Epoch 9: 100%|███████| 3/3 [00:00<00:00,  3.61batch/s, kl_loss=0.00155, loss=0.0189, recon_loss=0.0173]\n",
      "Val 9: 100%|█| 1/1 [00:00<00:00, 11.77batch/s, val_kl_loss=0.00155, val_loss=0.0188, val_recon_loss=0.0\n",
      "Epoch 10: 100%|██████| 3/3 [00:00<00:00,  3.45batch/s, kl_loss=0.00148, loss=0.0186, recon_loss=0.0171]\n",
      "Val 10: 100%|█| 1/1 [00:00<00:00, 12.79batch/s, val_kl_loss=0.00148, val_loss=0.0183, val_recon_loss=0.\n",
      "Epoch 11: 100%|██████| 3/3 [00:00<00:00,  3.80batch/s, kl_loss=0.00154, loss=0.0171, recon_loss=0.0156]\n",
      "Val 11: 100%|█| 1/1 [00:00<00:00, 11.20batch/s, val_kl_loss=0.00154, val_loss=0.0176, val_recon_loss=0.\n",
      "Epoch 12: 100%|██████| 3/3 [00:00<00:00,  3.03batch/s, kl_loss=0.00212, loss=0.0164, recon_loss=0.0143]\n",
      "Val 12: 100%|█| 1/1 [00:00<00:00, 11.96batch/s, val_kl_loss=0.00212, val_loss=0.017, val_recon_loss=0.0\n",
      "Epoch 13: 100%|███████| 3/3 [00:00<00:00,  3.14batch/s, kl_loss=0.00274, loss=0.0167, recon_loss=0.014]\n",
      "Val 13: 100%|█| 1/1 [00:00<00:00, 12.56batch/s, val_kl_loss=0.00274, val_loss=0.0168, val_recon_loss=0.\n",
      "Epoch 14: 100%|████████| 3/3 [00:00<00:00,  3.61batch/s, kl_loss=0.00294, loss=0.016, recon_loss=0.013]\n",
      "Val 14: 100%|█| 1/1 [00:00<00:00,  8.68batch/s, val_kl_loss=0.00294, val_loss=0.0162, val_recon_loss=0.\n",
      "Epoch 15: 100%|██████| 3/3 [00:00<00:00,  3.28batch/s, kl_loss=0.00292, loss=0.0154, recon_loss=0.0125]\n",
      "Val 15: 100%|█| 1/1 [00:00<00:00, 12.73batch/s, val_kl_loss=0.00292, val_loss=0.0161, val_recon_loss=0.\n",
      "Epoch 16: 100%|███████| 3/3 [00:01<00:00,  2.99batch/s, kl_loss=0.00266, loss=0.015, recon_loss=0.0123]\n",
      "Val 16: 100%|█| 1/1 [00:00<00:00, 13.10batch/s, val_kl_loss=0.00266, val_loss=0.016, val_recon_loss=0.0\n",
      "Epoch 17: 100%|███████| 3/3 [00:01<00:00,  2.70batch/s, kl_loss=0.00232, loss=0.0153, recon_loss=0.013]\n",
      "Val 17: 100%|█| 1/1 [00:00<00:00, 12.53batch/s, val_kl_loss=0.00232, val_loss=0.0154, val_recon_loss=0.\n",
      "Epoch 18: 100%|██████| 3/3 [00:01<00:00,  2.85batch/s, kl_loss=0.00208, loss=0.0153, recon_loss=0.0132]\n",
      "Val 18: 100%|█| 1/1 [00:00<00:00, 13.64batch/s, val_kl_loss=0.00208, val_loss=0.0156, val_recon_loss=0.\n",
      "Epoch 19: 100%|██████| 3/3 [00:00<00:00,  3.07batch/s, kl_loss=0.00222, loss=0.0143, recon_loss=0.0121]\n",
      "Val 19: 100%|█| 1/1 [00:00<00:00,  8.91batch/s, val_kl_loss=0.00222, val_loss=0.0152, val_recon_loss=0.\n"
     ]
    }
   ],
   "source": [
    "\n",
    "#model.load_state_dict(torch.load(r\"models/vae/model.ckp\"))\n",
    "train=True\n",
    "optimizer=torch.optim.Adam(model.parameters(),lr=INIT_LR)\n",
    "\n",
    "if train:\n",
    "    model.fit(train_dataloader=train_dataloader,val_dataloader=test_dataloader,epochs=EPOCHS,optimizer=optimizer,device=device,wandb_log=False,save_model=base_path,early_stop=3)\n",
    "    \n",
    "else:\n",
    "    model.load_state_dict(torch.load(os.path.join(base_path,\"model.ckp\")))"
   ]
  },
  {
   "cell_type": "markdown",
   "id": "6a5e623c-0d63-4542-a7fc-8797ce93b985",
   "metadata": {},
   "source": [
    "# BASELINE EVALUATION"
   ]
  },
  {
   "cell_type": "code",
   "execution_count": 13,
   "id": "cd9ab124-65b8-4c1e-b1db-9721aed04333",
   "metadata": {},
   "outputs": [
    {
     "name": "stderr",
     "output_type": "stream",
     "text": [
      "100%|████████████████████████████████████████████████████████████████████| 3/3 [00:00<00:00,  6.49it/s]\n",
      "100%|████████████████████████████████████████████████████████████████████| 1/1 [00:00<00:00, 17.29it/s]\n"
     ]
    }
   ],
   "source": [
    "cl_train=[]\n",
    "y_train=[]\n",
    "z_train=[]\n",
    "\n",
    "\n",
    "cl_test=[]\n",
    "y_test=[]\n",
    "z_test=[]\n",
    "\n",
    "with torch.no_grad():\n",
    "    for x,y in tqdm.tqdm(train_dataloader):\n",
    "        x=x.to(device)\n",
    "        z_mu,z_sigma=model.encoder(x)\n",
    "        dist=D.normal.Normal(z_mu, torch.exp(0.5 * z_sigma))\n",
    "        z=dist.sample().cpu()\n",
    "        \n",
    "        z_train.append(z.numpy())\n",
    "        y_train.append(y.numpy())\n",
    "        \n",
    "    for x,y in tqdm.tqdm(test_dataloader):\n",
    "        x=x.to(device)\n",
    "        z_mu,z_sigma=model.encoder(x)\n",
    "        dist=D.normal.Normal(z_mu, torch.exp(0.5 * z_sigma))\n",
    "        z=dist.sample().cpu()\n",
    "        \n",
    "        z_test.append(z.numpy())\n",
    "        y_test.append(y.numpy())\n",
    "        \n",
    "    #cl_train=np.concatenate(cl_train,0)\n",
    "    z_train=np.concatenate(z_train,0)\n",
    "    y_train=np.concatenate(y_train,0)\n",
    "\n",
    "    #cl_test=np.concatenate(cl_test,0)\n",
    "    z_test=np.concatenate(z_test,0)\n",
    "    y_test=np.concatenate(y_test,0)\n",
    "        \n",
    "\n"
   ]
  },
  {
   "cell_type": "markdown",
   "id": "a12fa3d7-10f7-4659-b7c3-05d87db84a27",
   "metadata": {},
   "source": [
    "## Looking for best kmeans K"
   ]
  },
  {
   "cell_type": "code",
   "execution_count": 14,
   "id": "9e2de290-8409-4ac2-950f-884d2bac4c9f",
   "metadata": {},
   "outputs": [
    {
     "data": {
      "image/png": "[encoded data removed]",
      "text/plain": [
       "<Figure size 432x288 with 2 Axes>"
      ]
     },
     "metadata": {},
     "output_type": "display_data"
    },
    {
     "data": {
      "text/plain": [
       "<AxesSubplot:title={'center':'Distortion Score Elbow for KMeans Clustering'}, xlabel='k', ylabel='distortion score'>"
      ]
     },
     "execution_count": 14,
     "metadata": {},
     "output_type": "execute_result"
    }
   ],
   "source": [
    "kmodel = KMeans()\n",
    "visualizer = KElbowVisualizer(kmodel, k=[2,4,5,8,10,12,15,18,20,25,30,40,50])\n",
    "\n",
    "visualizer.fit(z_train)        # Fit the data to the visualizer\n",
    "visualizer.show()        # Finalize and render the figure"
   ]
  },
  {
   "cell_type": "code",
   "execution_count": 15,
   "id": "5332e1c6-c6d4-4a7a-8e07-2070bd81e584",
   "metadata": {},
   "outputs": [],
   "source": [
    "n_clusters=visualizer.elbow_value_\n",
    "kmodel=KMeans(n_clusters=n_clusters)\n",
    "kmodel.fit(z_train)\n",
    "\n",
    "cl_train=kmodel.predict(z_train)\n",
    "cl_test=kmodel.predict(z_test)\n",
    "\n"
   ]
  },
  {
   "cell_type": "code",
   "execution_count": 16,
   "id": "00e3d582-313b-4697-9eb0-c6c7179371e7",
   "metadata": {},
   "outputs": [
    {
     "data": {
      "text/html": [
       "wandb version 0.13.1 is available!  To upgrade, please run:\n",
       " $ pip install wandb --upgrade"
      ],
      "text/plain": [
       "<IPython.core.display.HTML object>"
      ]
     },
     "metadata": {},
     "output_type": "display_data"
    },
    {
     "data": {
      "text/html": [
       "Tracking run with wandb version 0.12.16"
      ],
      "text/plain": [
       "<IPython.core.display.HTML object>"
      ]
     },
     "metadata": {},
     "output_type": "display_data"
    },
    {
     "data": {
      "text/html": [
       "Run data is saved locally in <code>/home/matteo/Unsupervised/vaesim_baselines/VAE_KMeans/wandb/run-20220812_224812-34hkwjbz</code>"
      ],
      "text/plain": [
       "<IPython.core.display.HTML object>"
      ]
     },
     "metadata": {},
     "output_type": "display_data"
    },
    {
     "data": {
      "text/html": [
       "Syncing run <strong><a href=\"https://wandb.ai/torvergatafmri/VAESIM_CHARACT/runs/34hkwjbz\" target=\"_blank\">still-blaze-48</a></strong> to <a href=\"https://wandb.ai/torvergatafmri/VAESIM_CHARACT\" target=\"_blank\">Weights & Biases</a> (<a href=\"https://wandb.me/run\" target=\"_blank\">docs</a>)<br/>"
      ],
      "text/plain": [
       "<IPython.core.display.HTML object>"
      ]
     },
     "metadata": {},
     "output_type": "display_data"
    },
    {
     "data": {
      "text/html": [
       "<button onClick=\"this.nextSibling.style.display='block';this.style.display='none';\">Display W&B run</button><iframe src=\"https://wandb.ai/torvergatafmri/VAESIM_CHARACT/runs/34hkwjbz?jupyter=true\" style=\"border:none;width:100%;height:420px;display:none;\"></iframe>"
      ],
      "text/plain": [
       "<wandb.sdk.wandb_run.Run at 0x7f23f03a5460>"
      ]
     },
     "execution_count": 16,
     "metadata": {},
     "output_type": "execute_result"
    }
   ],
   "source": [
    "config={\"name\":\"VAEKMEANS\",\"dataset\":\"pneumonia\",\"n_cluster\":n_clusters}\n",
    "wandb.init(project=\"VAESIM_CHARACT\",config=config)"
   ]
  },
  {
   "cell_type": "code",
   "execution_count": 17,
   "id": "aee34b63-b3d4-4e57-86a8-2ef48938f9c4",
   "metadata": {},
   "outputs": [
    {
     "name": "stderr",
     "output_type": "stream",
     "text": [
      "/home/matteo/anaconda3/envs/pytorch/lib/python3.9/site-packages/sklearn/neighbors/_classification.py:200: DataConversionWarning: A column-vector y was passed when a 1d array was expected. Please change the shape of y to (n_samples,), for example using ravel().\n",
      "  return self._fit(X, y)\n",
      "/home/matteo/anaconda3/envs/pytorch/lib/python3.9/site-packages/torch/nn/modules/lazy.py:178: UserWarning: Lazy modules are a new feature under heavy development so changes to the API or functionality can happen at any moment.\n",
      "  warnings.warn('Lazy modules are a new feature under heavy development '\n"
     ]
    },
    {
     "name": "stdout",
     "output_type": "stream",
     "text": [
      "[INFO] compute mappings and stat accuracy\n",
      "{0: 1, 1: 1, 2: 1, 3: 1, 4: 1, 5: 1, 6: 1, 7: 1, 8: 1, 9: 1, 10: 1, 11: 1, 12: 1, 13: 0, 14: 1}\n",
      "              precision    recall  f1-score   support\n",
      "\n",
      "           0       0.66      0.19      0.29       234\n",
      "           1       0.66      0.94      0.78       390\n",
      "\n",
      "    accuracy                           0.66       624\n",
      "   macro avg       0.66      0.56      0.53       624\n",
      "weighted avg       0.66      0.66      0.59       624\n",
      "\n",
      "[INFO] compute kNN accuracy\n",
      "              precision    recall  f1-score   support\n",
      "\n",
      "           0       0.42      0.21      0.28       234\n",
      "           1       0.63      0.83      0.72       390\n",
      "\n",
      "    accuracy                           0.59       624\n",
      "   macro avg       0.53      0.52      0.50       624\n",
      "weighted avg       0.55      0.59      0.55       624\n",
      "\n",
      "[INFO] compute linear accuracy\n"
     ]
    },
    {
     "name": "stderr",
     "output_type": "stream",
     "text": [
      "[LINEAR] epoch 9 loss: 1.64482843875885 acc: 0.5: 100%|████████████████| 10/10 [00:00<00:00, 19.34it/s]\n",
      "/home/matteo/anaconda3/envs/pytorch/lib/python3.9/site-packages/sklearn/metrics/_classification.py:1327: UndefinedMetricWarning: Recall and F-score are ill-defined and being set to 0.0 in labels with no true samples. Use `zero_division` parameter to control this behavior.\n",
      "  _warn_prf(average, modifier, msg_start, len(result))\n",
      "/home/matteo/anaconda3/envs/pytorch/lib/python3.9/site-packages/sklearn/metrics/_classification.py:1327: UndefinedMetricWarning: Recall and F-score are ill-defined and being set to 0.0 in labels with no true samples. Use `zero_division` parameter to control this behavior.\n",
      "  _warn_prf(average, modifier, msg_start, len(result))\n",
      "/home/matteo/anaconda3/envs/pytorch/lib/python3.9/site-packages/sklearn/metrics/_classification.py:1327: UndefinedMetricWarning: Recall and F-score are ill-defined and being set to 0.0 in labels with no true samples. Use `zero_division` parameter to control this behavior.\n",
      "  _warn_prf(average, modifier, msg_start, len(result))\n",
      "/home/matteo/anaconda3/envs/pytorch/lib/python3.9/site-packages/sklearn/metrics/_classification.py:1327: UndefinedMetricWarning: Recall and F-score are ill-defined and being set to 0.0 in labels with no true samples. Use `zero_division` parameter to control this behavior.\n",
      "  _warn_prf(average, modifier, msg_start, len(result))\n",
      "/home/matteo/anaconda3/envs/pytorch/lib/python3.9/site-packages/sklearn/metrics/_classification.py:1327: UndefinedMetricWarning: Recall and F-score are ill-defined and being set to 0.0 in labels with no true samples. Use `zero_division` parameter to control this behavior.\n",
      "  _warn_prf(average, modifier, msg_start, len(result))\n",
      "/home/matteo/anaconda3/envs/pytorch/lib/python3.9/site-packages/sklearn/metrics/_classification.py:1327: UndefinedMetricWarning: Recall and F-score are ill-defined and being set to 0.0 in labels with no true samples. Use `zero_division` parameter to control this behavior.\n",
      "  _warn_prf(average, modifier, msg_start, len(result))\n"
     ]
    },
    {
     "name": "stdout",
     "output_type": "stream",
     "text": [
      "              precision    recall  f1-score   support\n",
      "\n",
      "           0       0.46      0.35      0.40       234\n",
      "           1       0.62      0.51      0.56       390\n",
      "           2       0.00      0.00      0.00         0\n",
      "           3       0.00      0.00      0.00         0\n",
      "           4       0.00      0.00      0.00         0\n",
      "           5       0.00      0.00      0.00         0\n",
      "           6       0.00      0.00      0.00         0\n",
      "           7       0.00      0.00      0.00         0\n",
      "           8       0.00      0.00      0.00         0\n",
      "           9       0.00      0.00      0.00         0\n",
      "\n",
      "    accuracy                           0.45       624\n",
      "   macro avg       0.11      0.09      0.10       624\n",
      "weighted avg       0.56      0.45      0.50       624\n",
      "\n"
     ]
    }
   ],
   "source": [
    "outputs=model_evaluation(z_train,y_train,z_test,y_test,cl_train,cl_test,device=\"cuda\",n_cluster=n_clusters)\n",
    "wandb.log(outputs)"
   ]
  },
  {
   "cell_type": "code",
   "execution_count": null,
   "id": "37c3aa7a-e1d7-4376-9f53-41c35d4e26a8",
   "metadata": {},
   "outputs": [],
   "source": []
  }
 ],
 "metadata": {
  "kernelspec": {
   "display_name": "pytorch",
   "language": "python",
   "name": "pytorch"
  },
  "language_info": {
   "codemirror_mode": {
    "name": "ipython",
    "version": 3
   },
   "file_extension": ".py",
   "mimetype": "text/x-python",
   "name": "python",
   "nbconvert_exporter": "python",
   "pygments_lexer": "ipython3",
   "version": "3.9.12"
  }
 },
 "nbformat": 4,
 "nbformat_minor": 5
}
